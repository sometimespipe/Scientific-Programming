{
 "cells": [
  {
   "cell_type": "code",
   "execution_count": 1,
   "metadata": {},
   "outputs": [
    {
     "name": "stdout",
     "output_type": "stream",
     "text": [
      "-30.0 -22.0\n",
      "-20.0  -4.0\n",
      "-10.0  14.0\n",
      "  0.0  32.0\n",
      " 10.0  50.0\n",
      " 20.0  68.0\n",
      " 30.0  86.0\n",
      " 40.0 104.0\n",
      " 50.0 122.0\n"
     ]
    }
   ],
   "source": [
    "def F(C):\n",
    "    F = (9.0/5)*C + 32\n",
    "    return F\n",
    "dC = 10\n",
    "C = -30\n",
    "while C <= 50:\n",
    "    print(\"%5.1f %5.1f\"%(C, F(C)))\n",
    "    C += dC"
   ]
  },
  {
   "cell_type": "code",
   "execution_count": 2,
   "metadata": {},
   "outputs": [
    {
     "name": "stdout",
     "output_type": "stream",
     "text": [
      "[0, 0.5, 1.0, 1.5, 2.0, 2.5, 3.0, 3.5, 4.0, 4.5, 5.0, 5.5, 6.0, 6.5, 7.0, 7.5, 8.0, 8.5, 9.0, 9.5, 10.0, 10.5, 11.0, 11.5, 12.0, 12.5, 13.0, 13.5, 14.0, 14.5, 15.0, 15.5, 16.0, 16.5, 17.0, 17.5, 18.0, 18.5, 19.0, 19.5, 20.0, 20.5, 21.0, 21.5, 22.0, 22.5, 23.0, 23.5, 24.0, 24.5, 25.0, 25.5, 26.0, 26.5, 27.0, 27.5, 28.0, 28.5, 29.0, 29.5, 30.0, 30.5, 31.0, 31.5, 32.0, 32.5, 33.0, 33.5, 34.0, 34.5, 35.0, 35.5, 36.0, 36.5, 37.0, 37.5, 38.0, 38.5, 39.0, 39.5, 40.0, 40.5, 41.0, 41.5, 42.0, 42.5, 43.0, 43.5, 44.0, 44.5, 45.0, 45.5, 46.0, 46.5, 47.0, 47.5, 48.0, 48.5, 49.0, 49.5, 50.0, 50.5, 51.0, 51.5, 52.0, 52.5, 53.0, 53.5, 54.0, 54.5, 55.0, 55.5, 56.0, 56.5, 57.0, 57.5, 58.0, 58.5, 59.0, 59.5, 60.0, 60.5, 61.0, 61.5, 62.0, 62.5, 63.0, 63.5, 64.0, 64.5, 65.0, 65.5, 66.0, 66.5, 67.0, 67.5, 68.0, 68.5, 69.0, 69.5, 70.0, 70.5, 71.0, 71.5, 72.0, 72.5, 73.0, 73.5, 74.0, 74.5, 75.0, 75.5, 76.0, 76.5, 77.0, 77.5, 78.0, 78.5, 79.0, 79.5, 80.0, 80.5, 81.0, 81.5, 82.0, 82.5, 83.0, 83.5, 84.0, 84.5, 85.0, 85.5, 86.0, 86.5, 87.0, 87.5, 88.0, 88.5, 89.0, 89.5, 90.0, 90.5, 91.0, 91.5, 92.0, 92.5, 93.0, 93.5, 94.0, 94.5, 95.0, 95.5, 96.0, 96.5, 97.0, 97.5, 98.0, 98.5, 99.0, 99.5, 100.0]\n"
     ]
    }
   ],
   "source": [
    "def makelist(start, stop, inc):\n",
    "    value = start\n",
    "    result = []\n",
    "    while value <= stop:\n",
    "        result.append(value)\n",
    "        value = value + inc\n",
    "    return result\n",
    "\n",
    "mylist = makelist(0, 100, 0.5)\n",
    "print (mylist)\n",
    "\n"
   ]
  },
  {
   "cell_type": "code",
   "execution_count": 3,
   "metadata": {},
   "outputs": [
    {
     "name": "stdout",
     "output_type": "stream",
     "text": [
      "(-97.50000000000001, -44.0)\n"
     ]
    }
   ],
   "source": [
    "def yfunc(t, v0):\n",
    "    g = 9.8\n",
    "    y = v0*t - 0.5*g*t**2\n",
    "    dydt= v0 - g*t\n",
    "    return y, dydt\n",
    "\n",
    "y = yfunc(5, 5)\n",
    "print (y)\n"
   ]
  },
  {
   "cell_type": "code",
   "execution_count": 4,
   "metadata": {},
   "outputs": [
    {
     "name": "stdout",
     "output_type": "stream",
     "text": [
      "t=0          position=0          velocity=9         \n",
      "t=0.5        position=3.275      velocity=4.1       \n",
      "t=1          position=4.1        velocity=-0.8      \n",
      "t=1.5        position=2.475      velocity=-5.7      \n",
      "t=2          position=-1.6       velocity=-10.6     \n",
      "t=2.5        position=-8.125     velocity=-15.5     \n",
      "t=3          position=-17.1      velocity=-20.4     \n",
      "t=3.5        position=-28.525    velocity=-25.3     \n",
      "t=4          position=-42.4      velocity=-30.2     \n",
      "t=4.5        position=-58.725    velocity=-35.1     \n"
     ]
    }
   ],
   "source": [
    "t_values = [0.5*i for i in range (10)]\n",
    "for t in t_values:\n",
    "    position, velocity = yfunc(t, v0=9)\n",
    "    print (\"t=%-10g position=%-10g velocity=%-10g\" %(t, position, velocity))"
   ]
  },
  {
   "cell_type": "code",
   "execution_count": 5,
   "metadata": {},
   "outputs": [
    {
     "name": "stdout",
     "output_type": "stream",
     "text": [
      "0.0\n"
     ]
    }
   ],
   "source": [
    "from math import e, pi, sin\n",
    "\n",
    "def g_func(t):\n",
    "    return float(sin(pi*t)*(e**(-t)))\n",
    "\n",
    "z = g_func(0)\n",
    "l = g_func(1)\n",
    "\n",
    "print(z and l)\n",
    "    "
   ]
  },
  {
   "cell_type": "code",
   "execution_count": 6,
   "metadata": {},
   "outputs": [
    {
     "name": "stdout",
     "output_type": "stream",
     "text": [
      "0.0\n"
     ]
    }
   ],
   "source": [
    "def h_func(t, a = 10):\n",
    "    return float(sin(pi*t)*(e**(-a*t)))\n",
    "\n",
    "q = h_func(0)\n",
    "w = h_func(1)\n",
    "\n",
    "print(q and w)\n"
   ]
  },
  {
   "cell_type": "code",
   "execution_count": 7,
   "metadata": {},
   "outputs": [
    {
     "name": "stdout",
     "output_type": "stream",
     "text": [
      "1.0\n",
      "0.5\n",
      "0.3333333333333333\n"
     ]
    }
   ],
   "source": [
    "for M in range(1,4):\n",
    "    def sum_1k(M):\n",
    "        s = 0\n",
    "        s += 1/M\n",
    "        return s\n",
    "    u = sum_1k(M)\n",
    "    print(u)"
   ]
  },
  {
   "cell_type": "code",
   "execution_count": 9,
   "metadata": {
    "scrolled": true
   },
   "outputs": [
    {
     "name": "stdout",
     "output_type": "stream",
     "text": [
      "1.0\n",
      "0.5\n",
      "0.3333333333333333\n"
     ]
    }
   ],
   "source": [
    "for M in range(1,4):\n",
    "    def sum_1k(M):\n",
    "        s = 0\n",
    "        s += 1/M\n",
    "        return s\n",
    "    u = sum_1k(M)\n",
    "    print(u)"
   ]
  },
  {
   "cell_type": "code",
   "execution_count": 10,
   "metadata": {},
   "outputs": [
    {
     "data": {
      "text/plain": [
       "1001.5007501249997"
      ]
     },
     "execution_count": 10,
     "metadata": {},
     "output_type": "execute_result"
    }
   ],
   "source": [
    "1000*(1 + 0.05/100)**3"
   ]
  },
  {
   "cell_type": "code",
   "execution_count": 11,
   "metadata": {},
   "outputs": [
    {
     "name": "stdout",
     "output_type": "stream",
     "text": [
      "drag force: 3.9 weight: 4.2 ratio of forces: 0.9\n"
     ]
    }
   ],
   "source": [
    "\n",
    "C_d = 0.4 #drag coeff\n",
    "rho = 1.20 #density of air in SIU units\n",
    "rad = 0.11 #radius in meters\n",
    "A = pi*rad**2 #area of ball\n",
    "V = 432 or 108\n",
    "m = 0.43 #masa en kg\n",
    "g = 9.81 #aceleración gravitatoria\n",
    "\n",
    "f_d = (C_d*rho*A*V)*(1/2)\n",
    "f_g = m*g\n",
    "\n",
    "ratio_forces = f_d/f_g\n",
    "\n",
    "print(\"drag force: %.1f weight: %.1f ratio of forces: %.1f\"%(f_d, f_g, ratio_forces))\n",
    "\n"
   ]
  },
  {
   "cell_type": "code",
   "execution_count": 12,
   "metadata": {},
   "outputs": [
    {
     "name": "stdout",
     "output_type": "stream",
     "text": [
      "[2, 3, 5, 7, 11, 13]\n",
      "[2, 3, 5, 7, 11, 13]\n",
      "[2, 3, 5, 7, 11, 13]\n",
      "[2, 3, 5, 7, 11, 13]\n",
      "[2, 3, 5, 7, 11, 13]\n",
      "[2, 3, 5, 7, 11, 13]\n",
      "[2, 3, 5, 7, 11, 13, 17]\n"
     ]
    }
   ],
   "source": [
    "primes = [2, 3, 5, 7, 11, 13]\n",
    "for i in primes:\n",
    "    i += 1\n",
    "    print(primes)\n",
    "p = 17\n",
    "primes.append(p)\n",
    "print(primes)\n"
   ]
  }
 ],
 "metadata": {
  "kernelspec": {
   "display_name": "Python 3",
   "language": "python",
   "name": "python3"
  },
  "language_info": {
   "codemirror_mode": {
    "name": "ipython",
    "version": 3
   },
   "file_extension": ".py",
   "mimetype": "text/x-python",
   "name": "python",
   "nbconvert_exporter": "python",
   "pygments_lexer": "ipython3",
   "version": "3.7.6"
  }
 },
 "nbformat": 4,
 "nbformat_minor": 4
}
